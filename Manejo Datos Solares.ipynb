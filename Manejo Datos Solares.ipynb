{
 "cells": [
  {
   "cell_type": "code",
   "execution_count": 1,
   "metadata": {},
   "outputs": [],
   "source": [
    "import numpy as np \n",
    "import pandas as pd \n",
    "import datetime as dt"
   ]
  },
  {
   "cell_type": "code",
   "execution_count": 2,
   "metadata": {},
   "outputs": [],
   "source": [
    "data = pd.read_csv('DatosBolivia.csv', sep=';', decimal=',')"
   ]
  },
  {
   "cell_type": "code",
   "execution_count": 3,
   "metadata": {},
   "outputs": [
    {
     "data": {
      "text/html": [
       "<div>\n",
       "<style scoped>\n",
       "    .dataframe tbody tr th:only-of-type {\n",
       "        vertical-align: middle;\n",
       "    }\n",
       "\n",
       "    .dataframe tbody tr th {\n",
       "        vertical-align: top;\n",
       "    }\n",
       "\n",
       "    .dataframe thead th {\n",
       "        text-align: right;\n",
       "    }\n",
       "</style>\n",
       "<table border=\"1\" class=\"dataframe\">\n",
       "  <thead>\n",
       "    <tr style=\"text-align: right;\">\n",
       "      <th></th>\n",
       "      <th>fecha1</th>\n",
       "      <th>fecha2</th>\n",
       "      <th>hora</th>\n",
       "      <th>BOLIVIA</th>\n",
       "    </tr>\n",
       "  </thead>\n",
       "  <tbody>\n",
       "    <tr>\n",
       "      <th>0</th>\n",
       "      <td>FECHA</td>\n",
       "      <td>FECHA2</td>\n",
       "      <td>Hora</td>\n",
       "      <td>98011.0</td>\n",
       "    </tr>\n",
       "    <tr>\n",
       "      <th>1</th>\n",
       "      <td>1/1/2010 00:00</td>\n",
       "      <td>31/12/2009 00:00</td>\n",
       "      <td>00:00</td>\n",
       "      <td>0.0</td>\n",
       "    </tr>\n",
       "    <tr>\n",
       "      <th>2</th>\n",
       "      <td>1/1/2010 01:00</td>\n",
       "      <td>1/1/2010 00:00</td>\n",
       "      <td>01:00</td>\n",
       "      <td>0.0</td>\n",
       "    </tr>\n",
       "    <tr>\n",
       "      <th>3</th>\n",
       "      <td>1/1/2010 02:00</td>\n",
       "      <td>1/1/2010 00:00</td>\n",
       "      <td>02:00</td>\n",
       "      <td>0.0</td>\n",
       "    </tr>\n",
       "    <tr>\n",
       "      <th>4</th>\n",
       "      <td>1/1/2010 03:00</td>\n",
       "      <td>1/1/2010 00:00</td>\n",
       "      <td>03:00</td>\n",
       "      <td>0.0</td>\n",
       "    </tr>\n",
       "    <tr>\n",
       "      <th>...</th>\n",
       "      <td>...</td>\n",
       "      <td>...</td>\n",
       "      <td>...</td>\n",
       "      <td>...</td>\n",
       "    </tr>\n",
       "    <tr>\n",
       "      <th>86277</th>\n",
       "      <td>4/11/2019 20:00</td>\n",
       "      <td>4/11/2019 00:00</td>\n",
       "      <td>20:00</td>\n",
       "      <td>NaN</td>\n",
       "    </tr>\n",
       "    <tr>\n",
       "      <th>86278</th>\n",
       "      <td>4/11/2019 21:00</td>\n",
       "      <td>4/11/2019 00:00</td>\n",
       "      <td>21:00</td>\n",
       "      <td>NaN</td>\n",
       "    </tr>\n",
       "    <tr>\n",
       "      <th>86279</th>\n",
       "      <td>4/11/2019 22:00</td>\n",
       "      <td>4/11/2019 00:00</td>\n",
       "      <td>22:00</td>\n",
       "      <td>NaN</td>\n",
       "    </tr>\n",
       "    <tr>\n",
       "      <th>86280</th>\n",
       "      <td>4/11/2019 23:00</td>\n",
       "      <td>4/11/2019 00:00</td>\n",
       "      <td>23:00</td>\n",
       "      <td>NaN</td>\n",
       "    </tr>\n",
       "    <tr>\n",
       "      <th>86281</th>\n",
       "      <td>5/11/2019 00:00</td>\n",
       "      <td>5/11/2019 00:00</td>\n",
       "      <td>00:00</td>\n",
       "      <td>NaN</td>\n",
       "    </tr>\n",
       "  </tbody>\n",
       "</table>\n",
       "<p>86282 rows × 4 columns</p>\n",
       "</div>"
      ],
      "text/plain": [
       "                fecha1            fecha2   hora  BOLIVIA\n",
       "0                FECHA            FECHA2   Hora  98011.0\n",
       "1       1/1/2010 00:00  31/12/2009 00:00  00:00      0.0\n",
       "2       1/1/2010 01:00    1/1/2010 00:00  01:00      0.0\n",
       "3       1/1/2010 02:00    1/1/2010 00:00  02:00      0.0\n",
       "4       1/1/2010 03:00    1/1/2010 00:00  03:00      0.0\n",
       "...                ...               ...    ...      ...\n",
       "86277  4/11/2019 20:00   4/11/2019 00:00  20:00      NaN\n",
       "86278  4/11/2019 21:00   4/11/2019 00:00  21:00      NaN\n",
       "86279  4/11/2019 22:00   4/11/2019 00:00  22:00      NaN\n",
       "86280  4/11/2019 23:00   4/11/2019 00:00  23:00      NaN\n",
       "86281  5/11/2019 00:00   5/11/2019 00:00  00:00      NaN\n",
       "\n",
       "[86282 rows x 4 columns]"
      ]
     },
     "execution_count": 3,
     "metadata": {},
     "output_type": "execute_result"
    }
   ],
   "source": [
    "data"
   ]
  },
  {
   "cell_type": "code",
   "execution_count": 58,
   "metadata": {},
   "outputs": [],
   "source": [
    "data = data[1:]"
   ]
  },
  {
   "cell_type": "code",
   "execution_count": 59,
   "metadata": {},
   "outputs": [],
   "source": [
    "data.loc['fecha1'] = pd.to_datetime(data.fecha1)"
   ]
  },
  {
   "cell_type": "code",
   "execution_count": 60,
   "metadata": {},
   "outputs": [],
   "source": [
    "data = data.drop('fecha2',axis=1).drop('hora',axis=1)"
   ]
  },
  {
   "cell_type": "code",
   "execution_count": 61,
   "metadata": {},
   "outputs": [
    {
     "data": {
      "text/html": [
       "<div>\n",
       "<style scoped>\n",
       "    .dataframe tbody tr th:only-of-type {\n",
       "        vertical-align: middle;\n",
       "    }\n",
       "\n",
       "    .dataframe tbody tr th {\n",
       "        vertical-align: top;\n",
       "    }\n",
       "\n",
       "    .dataframe thead th {\n",
       "        text-align: right;\n",
       "    }\n",
       "</style>\n",
       "<table border=\"1\" class=\"dataframe\">\n",
       "  <thead>\n",
       "    <tr style=\"text-align: right;\">\n",
       "      <th></th>\n",
       "      <th>fecha1</th>\n",
       "      <th>BOLIVIA</th>\n",
       "    </tr>\n",
       "  </thead>\n",
       "  <tbody>\n",
       "    <tr>\n",
       "      <td>1</td>\n",
       "      <td>1/1/2010 00:00</td>\n",
       "      <td>0.0</td>\n",
       "    </tr>\n",
       "    <tr>\n",
       "      <td>2</td>\n",
       "      <td>1/1/2010 01:00</td>\n",
       "      <td>0.0</td>\n",
       "    </tr>\n",
       "    <tr>\n",
       "      <td>3</td>\n",
       "      <td>1/1/2010 02:00</td>\n",
       "      <td>0.0</td>\n",
       "    </tr>\n",
       "    <tr>\n",
       "      <td>4</td>\n",
       "      <td>1/1/2010 03:00</td>\n",
       "      <td>0.0</td>\n",
       "    </tr>\n",
       "    <tr>\n",
       "      <td>5</td>\n",
       "      <td>1/1/2010 04:00</td>\n",
       "      <td>0.0</td>\n",
       "    </tr>\n",
       "    <tr>\n",
       "      <td>...</td>\n",
       "      <td>...</td>\n",
       "      <td>...</td>\n",
       "    </tr>\n",
       "    <tr>\n",
       "      <td>86278</td>\n",
       "      <td>4/11/2019 21:00</td>\n",
       "      <td>NaN</td>\n",
       "    </tr>\n",
       "    <tr>\n",
       "      <td>86279</td>\n",
       "      <td>4/11/2019 22:00</td>\n",
       "      <td>NaN</td>\n",
       "    </tr>\n",
       "    <tr>\n",
       "      <td>86280</td>\n",
       "      <td>4/11/2019 23:00</td>\n",
       "      <td>NaN</td>\n",
       "    </tr>\n",
       "    <tr>\n",
       "      <td>86281</td>\n",
       "      <td>5/11/2019 00:00</td>\n",
       "      <td>NaN</td>\n",
       "    </tr>\n",
       "    <tr>\n",
       "      <td>fecha1</td>\n",
       "      <td>NaN</td>\n",
       "      <td>NaN</td>\n",
       "    </tr>\n",
       "  </tbody>\n",
       "</table>\n",
       "<p>86282 rows × 2 columns</p>\n",
       "</div>"
      ],
      "text/plain": [
       "                 fecha1  BOLIVIA\n",
       "1        1/1/2010 00:00      0.0\n",
       "2        1/1/2010 01:00      0.0\n",
       "3        1/1/2010 02:00      0.0\n",
       "4        1/1/2010 03:00      0.0\n",
       "5        1/1/2010 04:00      0.0\n",
       "...                 ...      ...\n",
       "86278   4/11/2019 21:00      NaN\n",
       "86279   4/11/2019 22:00      NaN\n",
       "86280   4/11/2019 23:00      NaN\n",
       "86281   5/11/2019 00:00      NaN\n",
       "fecha1              NaN      NaN\n",
       "\n",
       "[86282 rows x 2 columns]"
      ]
     },
     "execution_count": 61,
     "metadata": {},
     "output_type": "execute_result"
    }
   ],
   "source": [
    "data"
   ]
  },
  {
   "cell_type": "code",
   "execution_count": 62,
   "metadata": {},
   "outputs": [],
   "source": [
    "data.index = pd.DatetimeIndex(data['fecha1'])"
   ]
  },
  {
   "cell_type": "code",
   "execution_count": 63,
   "metadata": {},
   "outputs": [],
   "source": [
    "#Elimino duplicados\n",
    "data = data.drop_duplicates('fecha1')"
   ]
  },
  {
   "cell_type": "code",
   "execution_count": 64,
   "metadata": {},
   "outputs": [],
   "source": [
    "#lista de todo el rango de tiempo\n",
    "all_days = pd.date_range(data.index.min(), data.index.max(),freq='h')"
   ]
  },
  {
   "cell_type": "code",
   "execution_count": 65,
   "metadata": {},
   "outputs": [
    {
     "data": {
      "text/plain": [
       "DatetimeIndex(['2010-01-01 00:00:00', '2010-01-01 01:00:00',\n",
       "               '2010-01-01 02:00:00', '2010-01-01 03:00:00',\n",
       "               '2010-01-01 04:00:00', '2010-01-01 05:00:00',\n",
       "               '2010-01-01 06:00:00', '2010-01-01 07:00:00',\n",
       "               '2010-01-01 08:00:00', '2010-01-01 09:00:00',\n",
       "               ...\n",
       "               '2019-12-10 14:00:00', '2019-12-10 15:00:00',\n",
       "               '2019-12-10 16:00:00', '2019-12-10 17:00:00',\n",
       "               '2019-12-10 18:00:00', '2019-12-10 19:00:00',\n",
       "               '2019-12-10 20:00:00', '2019-12-10 21:00:00',\n",
       "               '2019-12-10 22:00:00', '2019-12-10 23:00:00'],\n",
       "              dtype='datetime64[ns]', length=87144, freq='H')"
      ]
     },
     "execution_count": 65,
     "metadata": {},
     "output_type": "execute_result"
    }
   ],
   "source": [
    "all_days"
   ]
  },
  {
   "cell_type": "code",
   "execution_count": 66,
   "metadata": {},
   "outputs": [],
   "source": [
    "#compruebo que el rango de todos los días sea igual o mayor a la cantidad de datos que tengo y completo la matriz\n",
    "if len(all_days) >=  data.shape[0] :\n",
    "    Complete_Data =data.reindex(all_days)"
   ]
  },
  {
   "cell_type": "code",
   "execution_count": 67,
   "metadata": {},
   "outputs": [],
   "source": [
    "nan_rows = Complete_Data[Complete_Data.isnull().T.any().T]"
   ]
  },
  {
   "cell_type": "code",
   "execution_count": 68,
   "metadata": {},
   "outputs": [
    {
     "data": {
      "text/plain": [
       "January 2010        0\n",
       "February 2010       0\n",
       "March 2010          0\n",
       "April 2010          0\n",
       "May 2010            0\n",
       "                 ... \n",
       "August 2019        48\n",
       "September 2019     48\n",
       "October 2019       48\n",
       "November 2019     480\n",
       "December 2019       0\n",
       "Name: NaN, Length: 120, dtype: int32"
      ]
     },
     "execution_count": 68,
     "metadata": {},
     "output_type": "execute_result"
    }
   ],
   "source": [
    "#Conteo mensual de datos faltantes\n",
    "faltantes_mensuales = nan_rows.isnull().groupby(pd.Grouper(freq='1M')).sum().astype(int)\n",
    "faltantes_mensuales.index = faltantes_mensuales.index.strftime('%B %Y')\n",
    "faltantes_mensuales['NaN'] = faltantes_mensuales['fecha1']\n",
    "faltantes_mensuales = faltantes_mensuales['NaN']\n",
    "faltantes_mensuales"
   ]
  },
  {
   "cell_type": "code",
   "execution_count": 69,
   "metadata": {},
   "outputs": [
    {
     "data": {
      "text/plain": [
       "6435"
      ]
     },
     "execution_count": 69,
     "metadata": {},
     "output_type": "execute_result"
    }
   ],
   "source": [
    "#cantidad de fechas faltantes\n",
    "faltantes_tot = nan_rows.shape[0]\n",
    "faltantes_tot"
   ]
  },
  {
   "cell_type": "code",
   "execution_count": 70,
   "metadata": {},
   "outputs": [],
   "source": [
    "#identificamos cuales entradas no están en el formato correcto\n",
    "x= []\n",
    "for i in range(Complete_Data['BOLIVIA'].shape[0]):\n",
    "    if isinstance(Complete_Data.loc[:,'BOLIVIA'].iloc[i], float) == False:\n",
    "        x.append(i)"
   ]
  },
  {
   "cell_type": "code",
   "execution_count": 71,
   "metadata": {},
   "outputs": [],
   "source": [
    "#convertimos a float las columnas según el error al importar los datos\n",
    "y = len(x)\n",
    "for i in range(0,y):\n",
    "    Complete_Data.loc[:,'BOLIVIA'].iloc[x[i]] = float(Complete_Data.loc[:,'BOLIVIA'].iloc[x[i]])"
   ]
  },
  {
   "cell_type": "code",
   "execution_count": 72,
   "metadata": {},
   "outputs": [],
   "source": [
    "del x\n",
    "del y"
   ]
  },
  {
   "cell_type": "code",
   "execution_count": 75,
   "metadata": {},
   "outputs": [],
   "source": [
    "def Estacion(var):\n",
    "    no_representativos = []\n",
    "    anomalos = []\n",
    "    vacio = []\n",
    "    fechas = []\n",
    "    tabla = []\n",
    "    new = var\n",
    "    start = []\n",
    "    end = []\n",
    "    j = -1\n",
    "    idx = len(new.index)\n",
    "    headers = list(new.T.index)\n",
    "    dates = new.index\n",
    "    t_min=60\n",
    "    for i in dates:\n",
    "        j = j+1\n",
    "        if new.loc[:,'BOLIVIA'].loc[i] < 0 or new.loc[:,'BOLIVIA'].loc[i] >100:\n",
    "            fechas.append(str(i))\n",
    "            if j < idx - 1 :\n",
    "                if j==0:\n",
    "                    if i + dt.timedelta(minutes=t_min) == dates[j+1] :\n",
    "                        if new.loc[:,'BOLIVIA'].iloc[j+1] < 0 or new.loc[:,'BOLIVIA'].iloc[j+1] >100 :\n",
    "                            start.append(i)\n",
    "                    else: \n",
    "                        string = str(i) + ' no representativo'\n",
    "                        print(string)\n",
    "                        no_representativos.append(str(i))\n",
    "                        del string\n",
    "                elif i + dt.timedelta(minutes=t_min) == dates[j+1] :\n",
    "                    if new.loc[:,'BOLIVIA'].iloc[j+1] < 0 or new.loc[:,'BOLIVIA'].iloc[j+1] >100 :\n",
    "                        start.append(i)\n",
    "                    elif i - dt.timedelta(minutes=t_min) == dates[j-1]:\n",
    "                        if new.loc[:,'BOLIVIA'].iloc[j-1] < 0 or new.loc[:,'BOLIVIA'].iloc[j-1] >100:\n",
    "                            end.append(i)\n",
    "                            string = 'Desde ' + str(start[0]) + ' hasta ' + str(end[0]) + ' no representativos'\n",
    "                            no_representativos.append(str(start[0]) + ' a ' + str(end[0]))\n",
    "                            print(string)\n",
    "                            start = []\n",
    "                            end = []\n",
    "                            del string\n",
    "                    else:\n",
    "                        string = str(i) + ' no representativo'\n",
    "                        no_representativos.append(str(i))\n",
    "                        print(string)\n",
    "                        del string\n",
    "                elif  i - dt.timedelta(minutes=t_min) == dates[j-1]: \n",
    "                    if new.loc[:,'BOLIVIA'].iloc[j-1] < 0 or new.loc[:,'BOLIVIA'].iloc[j-1] >100 :\n",
    "                        end.append(i)\n",
    "                        string = 'Desde ' + str(start[0]) + ' hasta ' + str(end[0]) + ' no representativos'\n",
    "                        no_representativos.append(str(start[0]) + ' a ' + str(end[0]))\n",
    "                        print(string)\n",
    "                        del string\n",
    "                        start = []\n",
    "                        end = []\n",
    "                else:\n",
    "                    string = str(i) + ' no representativo'\n",
    "                    no_representativos.append(str(i))\n",
    "                    print(string)\n",
    "                    del string\n",
    "            elif j == idx -1:\n",
    "                if i - dt.timedelta(minutes=t_min) != dates[j-1]:\n",
    "                    string = str(i) + ' no representativo'\n",
    "                    no_representativos.append(str(i))\n",
    "                    print(string)\n",
    "                    del string\n",
    "                else:\n",
    "                    end.append(i)\n",
    "                    string = 'Desde ' + str(start[0]) + ' hasta ' + str(end[0]) + ' no representativos'\n",
    "                    no_representativos.append(str(start[0]) + ' a ' + str(end[0]))\n",
    "                    print(string)\n",
    "                    start = []\n",
    "                    end = []\n",
    "                    del string\n",
    "        elif ('BOLIVIA' in list(headers)) == True :\n",
    "            fechas.append(str(i))\n",
    "            if j < idx - 1 :\n",
    "                if pd.isna(new.loc[:,'BOLIVIA'].loc[i]) == True:\n",
    "                    if j==0:\n",
    "                        if i + dt.timedelta(minutes=t_min) == dates[j+1]:\n",
    "                            if pd.isna(new.loc[:,'BOLIVIA'].iloc[j+1]) == True :\n",
    "                                start.append(i)\n",
    "                        else:\n",
    "                            string = str(i) + ' Sin dato'\n",
    "                            print(string)\n",
    "                            vacio.append(str(i))\n",
    "                            del string\n",
    "                    elif i + dt.timedelta(minutes=t_min) == dates[j+1]:\n",
    "                        if pd.isna(new.loc[:,'BOLIVIA'].iloc[j+1]) == True :\n",
    "                            start.append(i)\n",
    "                        elif i - dt.timedelta(minutes=t_min) == dates[j-1]:\n",
    "                            if pd.isna(new.loc[:,'BOLIVIA'].iloc[j-1]) == True:\n",
    "                                end.append(i)\n",
    "                                string = 'Desde ' + str(start[0]) + ' hasta ' + str(end[0]) + ' sin datos'\n",
    "                                vacio.append(str(start[0]) + ' a ' + str(end[0]))\n",
    "                                print(string)\n",
    "                                start = []\n",
    "                                end = []\n",
    "                                del string\n",
    "                        else:\n",
    "                            string = str(i) + ' sin dato'\n",
    "                            print(string)\n",
    "                            vacio.append(str(i))\n",
    "                            del string\n",
    "                    elif  i - dt.timedelta(minutes=t_min) == dates[j-1] : \n",
    "                        if pd.isna(new.loc[:,'BOLIVIA'].iloc[j-1]) == True :\n",
    "                            end.append(i)\n",
    "                            string = 'Desde ' + str(start[0]) + ' hasta ' + str(end[0]) + ' sin datos'\n",
    "                            vacio.append(str(start[0]) + ' a ' + str(end[0]))\n",
    "                            print(string)\n",
    "                            start = []\n",
    "                            end = []\n",
    "                            del string\n",
    "                    else:\n",
    "                        string = str(i) + ' sin dato'\n",
    "                        print(str(i) + ' sin dato')\n",
    "                        vacio.append(str(i))\n",
    "                        del string\n",
    "    tabla.append(fechas)\n",
    "    tabla.append(anomalos)\n",
    "    tabla.append(no_representativos)\n",
    "    tabla.append(vacio)\n",
    "    return tabla"
   ]
  },
  {
   "cell_type": "code",
   "execution_count": 76,
   "metadata": {},
   "outputs": [
    {
     "name": "stdout",
     "output_type": "stream",
     "text": [
      "Desde 2010-01-07 00:00:00 hasta 2010-01-07 10:00:00 sin datos\n",
      "Desde 2010-06-20 02:00:00 hasta 2010-06-30 23:00:00 sin datos\n",
      "Desde 2011-01-07 01:00:00 hasta 2011-01-08 23:00:00 sin datos\n",
      "Desde 2011-01-09 01:00:00 hasta 2011-01-09 23:00:00 sin datos\n",
      "Desde 2011-02-07 00:00:00 hasta 2011-02-09 23:00:00 sin datos\n",
      "Desde 2011-03-07 00:00:00 hasta 2011-03-09 23:00:00 sin datos\n",
      "Desde 2011-04-07 00:00:00 hasta 2011-04-09 23:00:00 sin datos\n",
      "Desde 2011-05-07 00:00:00 hasta 2011-05-09 23:00:00 sin datos\n",
      "Desde 2011-06-05 07:00:00 hasta 2011-06-05 08:00:00 sin datos\n",
      "Desde 2011-06-07 00:00:00 hasta 2011-06-09 23:00:00 sin datos\n",
      "Desde 2011-07-07 00:00:00 hasta 2011-07-09 23:00:00 sin datos\n",
      "Desde 2011-07-13 00:00:00 hasta 2011-07-31 23:00:00 sin datos\n",
      "Desde 2011-08-07 00:00:00 hasta 2011-08-09 23:00:00 sin datos\n",
      "Desde 2011-08-13 00:00:00 hasta 2011-08-31 23:00:00 sin datos\n",
      "Desde 2011-09-07 00:00:00 hasta 2011-09-09 23:00:00 sin datos\n",
      "Desde 2011-09-13 00:00:00 hasta 2011-09-30 23:00:00 sin datos\n",
      "Desde 2011-10-07 00:00:00 hasta 2011-10-09 23:00:00 sin datos\n",
      "Desde 2011-11-07 00:00:00 hasta 2011-11-09 23:00:00 sin datos\n",
      "Desde 2011-12-07 00:00:00 hasta 2011-12-09 23:00:00 sin datos\n",
      "Desde 2012-06-03 08:00:00 hasta 2012-06-03 23:00:00 sin datos\n",
      "Desde 2012-07-03 00:00:00 hasta 2012-07-03 23:00:00 sin datos\n",
      "Desde 2012-08-03 00:00:00 hasta 2012-08-03 10:00:00 sin datos\n",
      "Desde 2013-03-11 00:00:00 hasta 2013-03-11 04:00:00 sin datos\n",
      "Desde 2013-05-02 09:00:00 hasta 2013-05-02 17:00:00 sin datos\n",
      "Desde 2015-01-11 00:00:00 hasta 2015-01-11 23:00:00 sin datos\n",
      "Desde 2015-01-12 09:00:00 hasta 2015-01-12 23:00:00 sin datos\n",
      "Desde 2015-02-11 00:00:00 hasta 2015-02-12 23:00:00 sin datos\n",
      "Desde 2015-03-11 00:00:00 hasta 2015-03-12 23:00:00 sin datos\n",
      "Desde 2015-04-11 00:00:00 hasta 2015-04-12 23:00:00 sin datos\n",
      "Desde 2015-05-11 00:00:00 hasta 2015-05-12 23:00:00 sin datos\n",
      "Desde 2015-06-11 00:00:00 hasta 2015-06-12 23:00:00 sin datos\n",
      "Desde 2015-07-11 00:00:00 hasta 2015-07-12 23:00:00 sin datos\n",
      "Desde 2015-08-11 00:00:00 hasta 2015-08-12 23:00:00 sin datos\n",
      "Desde 2015-09-11 00:00:00 hasta 2015-09-12 23:00:00 sin datos\n",
      "Desde 2015-10-11 00:00:00 hasta 2015-10-12 23:00:00 sin datos\n",
      "Desde 2015-10-15 00:00:00 hasta 2015-10-31 23:00:00 sin datos\n",
      "Desde 2015-11-11 00:00:00 hasta 2015-11-12 23:00:00 sin datos\n",
      "Desde 2015-12-11 00:00:00 hasta 2015-12-11 10:00:00 sin datos\n",
      "Desde 2015-12-12 00:00:00 hasta 2015-12-31 22:00:00 sin datos\n",
      "Desde 2017-01-09 00:00:00 hasta 2017-01-09 23:00:00 sin datos\n",
      "Desde 2017-02-09 00:00:00 hasta 2017-02-09 23:00:00 sin datos\n",
      "Desde 2017-03-09 00:00:00 hasta 2017-03-09 23:00:00 sin datos\n",
      "Desde 2017-04-09 00:00:00 hasta 2017-04-09 23:00:00 sin datos\n",
      "Desde 2017-05-09 00:00:00 hasta 2017-05-09 08:00:00 sin datos\n",
      "Desde 2017-08-08 10:00:00 hasta 2017-08-08 23:00:00 sin datos\n",
      "Desde 2017-08-13 00:00:00 hasta 2017-08-31 23:00:00 sin datos\n",
      "Desde 2017-09-08 00:00:00 hasta 2017-09-08 23:00:00 sin datos\n",
      "Desde 2017-10-08 00:00:00 hasta 2017-10-08 23:00:00 sin datos\n",
      "Desde 2017-11-08 00:00:00 hasta 2017-11-08 23:00:00 sin datos\n",
      "Desde 2017-12-08 00:00:00 hasta 2017-12-08 23:00:00 sin datos\n",
      "Desde 2019-01-11 00:00:00 hasta 2019-01-12 23:00:00 sin datos\n",
      "Desde 2019-02-11 00:00:00 hasta 2019-02-12 23:00:00 sin datos\n",
      "Desde 2019-03-11 00:00:00 hasta 2019-03-12 23:00:00 sin datos\n",
      "Desde 2019-04-11 00:00:00 hasta 2019-04-12 23:00:00 sin datos\n",
      "Desde 2019-05-11 00:00:00 hasta 2019-05-12 23:00:00 sin datos\n",
      "Desde 2019-06-11 00:00:00 hasta 2019-06-12 23:00:00 sin datos\n",
      "Desde 2019-06-13 09:00:00 hasta 2019-06-26 13:00:00 sin datos\n",
      "Desde 2019-07-11 00:00:00 hasta 2019-07-12 23:00:00 sin datos\n",
      "Desde 2019-08-11 00:00:00 hasta 2019-08-12 23:00:00 sin datos\n",
      "Desde 2019-09-11 00:00:00 hasta 2019-09-12 23:00:00 sin datos\n",
      "Desde 2019-10-10 09:00:00 hasta 2019-10-31 23:00:00 sin datos\n",
      "Desde 2019-11-10 00:00:00 hasta 2019-11-30 23:00:00 sin datos\n"
     ]
    }
   ],
   "source": [
    "bol = Estacion(Complete_Data)"
   ]
  },
  {
   "cell_type": "code",
   "execution_count": null,
   "metadata": {},
   "outputs": [],
   "source": [
    "est=Estacion(Complete_Data)\n",
    "est_anom = pd.DataFrame([est[1]], index = ['Anómalos'])\n",
    "est_norep = pd.DataFrame([est[2]], index = ['No_Representativos'])\n",
    "est_vaci = pd.DataFrame([est[3]], index = ['Vacios'])\n",
    "\n",
    "est_anom.T.to_csv('est' +'_'+'anomalos', index = False)\n",
    "est_norep.T.to_csv('est' +'_'+'no_represent', index = False)\n",
    "est_vaci.T.to_csv('est' +'_'+'vacios', index = False)"
   ]
  }
 ],
 "metadata": {
  "kernelspec": {
   "display_name": "Python 3",
   "language": "python",
   "name": "python3"
  },
  "language_info": {
   "codemirror_mode": {
    "name": "ipython",
    "version": 3
   },
   "file_extension": ".py",
   "mimetype": "text/x-python",
   "name": "python",
   "nbconvert_exporter": "python",
   "pygments_lexer": "ipython3",
   "version": "3.8.3"
  }
 },
 "nbformat": 4,
 "nbformat_minor": 2
}
